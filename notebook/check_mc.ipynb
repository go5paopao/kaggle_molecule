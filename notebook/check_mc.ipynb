{
 "cells": [
  {
   "cell_type": "code",
   "execution_count": 1,
   "metadata": {},
   "outputs": [],
   "source": [
    "import pandas as pd\n",
    "import numpy as np\n",
    "import matplotlib.pyplot as plt\n",
    "import os,sys,gc\n",
    "pd.set_option(\"max_columns\",300)\n",
    "pd.set_option(\"max_rows\",300)"
   ]
  },
  {
   "cell_type": "code",
   "execution_count": 2,
   "metadata": {},
   "outputs": [],
   "source": [
    "train = pd.read_csv(\"../input/train.csv\")"
   ]
  },
  {
   "cell_type": "code",
   "execution_count": 3,
   "metadata": {},
   "outputs": [],
   "source": [
    "st = pd.read_csv(\"../input/structures.csv\")"
   ]
  },
  {
   "cell_type": "code",
   "execution_count": 4,
   "metadata": {},
   "outputs": [],
   "source": [
    "train = train.merge(st, left_on=[\"molecule_name\",\"atom_index_0\"], right_on=[\"molecule_name\",\"atom_index\"], \n",
    "                    how=\"left\").drop(\"atom_index\",axis=1)"
   ]
  },
  {
   "cell_type": "code",
   "execution_count": 5,
   "metadata": {},
   "outputs": [],
   "source": [
    "train.rename(columns={\"atom\":\"atom_0\",\"x\":\"x_0\",\"y\":\"y_0\",\"z\":\"z_0\"},inplace=True)"
   ]
  },
  {
   "cell_type": "code",
   "execution_count": 6,
   "metadata": {},
   "outputs": [],
   "source": [
    "train = train.merge(st, left_on=[\"molecule_name\",\"atom_index_1\"], right_on=[\"molecule_name\",\"atom_index\"], \n",
    "                    how=\"left\").drop(\"atom_index\",axis=1)"
   ]
  },
  {
   "cell_type": "code",
   "execution_count": 7,
   "metadata": {},
   "outputs": [],
   "source": [
    "train.rename(columns={\"atom\":\"atom_1\",\"x\":\"x_1\",\"y\":\"y_1\",\"z\":\"z_1\"},inplace=True)"
   ]
  },
  {
   "cell_type": "code",
   "execution_count": 8,
   "metadata": {},
   "outputs": [],
   "source": [
    "mc = pd.read_pickle(\"../pickle/mulliken_charges.pkl\")"
   ]
  },
  {
   "cell_type": "code",
   "execution_count": 9,
   "metadata": {},
   "outputs": [
    {
     "data": {
      "text/html": [
       "<div>\n",
       "<style scoped>\n",
       "    .dataframe tbody tr th:only-of-type {\n",
       "        vertical-align: middle;\n",
       "    }\n",
       "\n",
       "    .dataframe tbody tr th {\n",
       "        vertical-align: top;\n",
       "    }\n",
       "\n",
       "    .dataframe thead th {\n",
       "        text-align: right;\n",
       "    }\n",
       "</style>\n",
       "<table border=\"1\" class=\"dataframe\">\n",
       "  <thead>\n",
       "    <tr style=\"text-align: right;\">\n",
       "      <th></th>\n",
       "      <th>molecule_name</th>\n",
       "      <th>atom_index</th>\n",
       "      <th>mulliken_charge</th>\n",
       "    </tr>\n",
       "  </thead>\n",
       "  <tbody>\n",
       "    <tr>\n",
       "      <th>0</th>\n",
       "      <td>dsgdb9nsd_000001</td>\n",
       "      <td>0</td>\n",
       "      <td>-0.535689</td>\n",
       "    </tr>\n",
       "    <tr>\n",
       "      <th>1</th>\n",
       "      <td>dsgdb9nsd_000001</td>\n",
       "      <td>1</td>\n",
       "      <td>0.133921</td>\n",
       "    </tr>\n",
       "    <tr>\n",
       "      <th>2</th>\n",
       "      <td>dsgdb9nsd_000001</td>\n",
       "      <td>2</td>\n",
       "      <td>0.133922</td>\n",
       "    </tr>\n",
       "    <tr>\n",
       "      <th>3</th>\n",
       "      <td>dsgdb9nsd_000001</td>\n",
       "      <td>3</td>\n",
       "      <td>0.133923</td>\n",
       "    </tr>\n",
       "    <tr>\n",
       "      <th>4</th>\n",
       "      <td>dsgdb9nsd_000001</td>\n",
       "      <td>4</td>\n",
       "      <td>0.133923</td>\n",
       "    </tr>\n",
       "  </tbody>\n",
       "</table>\n",
       "</div>"
      ],
      "text/plain": [
       "      molecule_name  atom_index  mulliken_charge\n",
       "0  dsgdb9nsd_000001           0        -0.535689\n",
       "1  dsgdb9nsd_000001           1         0.133921\n",
       "2  dsgdb9nsd_000001           2         0.133922\n",
       "3  dsgdb9nsd_000001           3         0.133923\n",
       "4  dsgdb9nsd_000001           4         0.133923"
      ]
     },
     "execution_count": 9,
     "metadata": {},
     "output_type": "execute_result"
    }
   ],
   "source": [
    "mc.head()"
   ]
  },
  {
   "cell_type": "code",
   "execution_count": 10,
   "metadata": {},
   "outputs": [],
   "source": [
    "train = train.merge(mc.rename(columns={\"mulliken_charge\":\"mulliken_charge_0\", \"atom_index\":\"atom_index_0\"}),\n",
    "                   on=[\"molecule_name\",\"atom_index_0\"], how=\"left\")\n",
    "train = train.merge(mc.rename(columns={\"mulliken_charge\":\"mulliken_charge_1\", \"atom_index\":\"atom_index_1\"}),\n",
    "                   on=[\"molecule_name\",\"atom_index_1\"], how=\"left\")"
   ]
  },
  {
   "cell_type": "code",
   "execution_count": 11,
   "metadata": {},
   "outputs": [
    {
     "data": {
      "text/html": [
       "<div>\n",
       "<style scoped>\n",
       "    .dataframe tbody tr th:only-of-type {\n",
       "        vertical-align: middle;\n",
       "    }\n",
       "\n",
       "    .dataframe tbody tr th {\n",
       "        vertical-align: top;\n",
       "    }\n",
       "\n",
       "    .dataframe thead th {\n",
       "        text-align: right;\n",
       "    }\n",
       "</style>\n",
       "<table border=\"1\" class=\"dataframe\">\n",
       "  <thead>\n",
       "    <tr style=\"text-align: right;\">\n",
       "      <th></th>\n",
       "      <th>id</th>\n",
       "      <th>molecule_name</th>\n",
       "      <th>atom_index_0</th>\n",
       "      <th>atom_index_1</th>\n",
       "      <th>type</th>\n",
       "      <th>scalar_coupling_constant</th>\n",
       "      <th>atom_0</th>\n",
       "      <th>x_0</th>\n",
       "      <th>y_0</th>\n",
       "      <th>z_0</th>\n",
       "      <th>atom_1</th>\n",
       "      <th>x_1</th>\n",
       "      <th>y_1</th>\n",
       "      <th>z_1</th>\n",
       "      <th>mulliken_charge_0</th>\n",
       "      <th>mulliken_charge_1</th>\n",
       "    </tr>\n",
       "  </thead>\n",
       "  <tbody>\n",
       "    <tr>\n",
       "      <th>0</th>\n",
       "      <td>0</td>\n",
       "      <td>dsgdb9nsd_000001</td>\n",
       "      <td>1</td>\n",
       "      <td>0</td>\n",
       "      <td>1JHC</td>\n",
       "      <td>84.8076</td>\n",
       "      <td>H</td>\n",
       "      <td>0.002150</td>\n",
       "      <td>-0.006031</td>\n",
       "      <td>0.001976</td>\n",
       "      <td>C</td>\n",
       "      <td>-0.012698</td>\n",
       "      <td>1.085804</td>\n",
       "      <td>0.008001</td>\n",
       "      <td>0.133921</td>\n",
       "      <td>-0.535689</td>\n",
       "    </tr>\n",
       "    <tr>\n",
       "      <th>1</th>\n",
       "      <td>1</td>\n",
       "      <td>dsgdb9nsd_000001</td>\n",
       "      <td>1</td>\n",
       "      <td>2</td>\n",
       "      <td>2JHH</td>\n",
       "      <td>-11.2570</td>\n",
       "      <td>H</td>\n",
       "      <td>0.002150</td>\n",
       "      <td>-0.006031</td>\n",
       "      <td>0.001976</td>\n",
       "      <td>H</td>\n",
       "      <td>1.011731</td>\n",
       "      <td>1.463751</td>\n",
       "      <td>0.000277</td>\n",
       "      <td>0.133921</td>\n",
       "      <td>0.133922</td>\n",
       "    </tr>\n",
       "    <tr>\n",
       "      <th>2</th>\n",
       "      <td>2</td>\n",
       "      <td>dsgdb9nsd_000001</td>\n",
       "      <td>1</td>\n",
       "      <td>3</td>\n",
       "      <td>2JHH</td>\n",
       "      <td>-11.2548</td>\n",
       "      <td>H</td>\n",
       "      <td>0.002150</td>\n",
       "      <td>-0.006031</td>\n",
       "      <td>0.001976</td>\n",
       "      <td>H</td>\n",
       "      <td>-0.540815</td>\n",
       "      <td>1.447527</td>\n",
       "      <td>-0.876644</td>\n",
       "      <td>0.133921</td>\n",
       "      <td>0.133923</td>\n",
       "    </tr>\n",
       "    <tr>\n",
       "      <th>3</th>\n",
       "      <td>3</td>\n",
       "      <td>dsgdb9nsd_000001</td>\n",
       "      <td>1</td>\n",
       "      <td>4</td>\n",
       "      <td>2JHH</td>\n",
       "      <td>-11.2543</td>\n",
       "      <td>H</td>\n",
       "      <td>0.002150</td>\n",
       "      <td>-0.006031</td>\n",
       "      <td>0.001976</td>\n",
       "      <td>H</td>\n",
       "      <td>-0.523814</td>\n",
       "      <td>1.437933</td>\n",
       "      <td>0.906397</td>\n",
       "      <td>0.133921</td>\n",
       "      <td>0.133923</td>\n",
       "    </tr>\n",
       "    <tr>\n",
       "      <th>4</th>\n",
       "      <td>4</td>\n",
       "      <td>dsgdb9nsd_000001</td>\n",
       "      <td>2</td>\n",
       "      <td>0</td>\n",
       "      <td>1JHC</td>\n",
       "      <td>84.8074</td>\n",
       "      <td>H</td>\n",
       "      <td>1.011731</td>\n",
       "      <td>1.463751</td>\n",
       "      <td>0.000277</td>\n",
       "      <td>C</td>\n",
       "      <td>-0.012698</td>\n",
       "      <td>1.085804</td>\n",
       "      <td>0.008001</td>\n",
       "      <td>0.133922</td>\n",
       "      <td>-0.535689</td>\n",
       "    </tr>\n",
       "  </tbody>\n",
       "</table>\n",
       "</div>"
      ],
      "text/plain": [
       "   id     molecule_name  atom_index_0  atom_index_1  type  \\\n",
       "0   0  dsgdb9nsd_000001             1             0  1JHC   \n",
       "1   1  dsgdb9nsd_000001             1             2  2JHH   \n",
       "2   2  dsgdb9nsd_000001             1             3  2JHH   \n",
       "3   3  dsgdb9nsd_000001             1             4  2JHH   \n",
       "4   4  dsgdb9nsd_000001             2             0  1JHC   \n",
       "\n",
       "   scalar_coupling_constant atom_0       x_0       y_0       z_0 atom_1  \\\n",
       "0                   84.8076      H  0.002150 -0.006031  0.001976      C   \n",
       "1                  -11.2570      H  0.002150 -0.006031  0.001976      H   \n",
       "2                  -11.2548      H  0.002150 -0.006031  0.001976      H   \n",
       "3                  -11.2543      H  0.002150 -0.006031  0.001976      H   \n",
       "4                   84.8074      H  1.011731  1.463751  0.000277      C   \n",
       "\n",
       "        x_1       y_1       z_1  mulliken_charge_0  mulliken_charge_1  \n",
       "0 -0.012698  1.085804  0.008001           0.133921          -0.535689  \n",
       "1  1.011731  1.463751  0.000277           0.133921           0.133922  \n",
       "2 -0.540815  1.447527 -0.876644           0.133921           0.133923  \n",
       "3 -0.523814  1.437933  0.906397           0.133921           0.133923  \n",
       "4 -0.012698  1.085804  0.008001           0.133922          -0.535689  "
      ]
     },
     "execution_count": 11,
     "metadata": {},
     "output_type": "execute_result"
    }
   ],
   "source": [
    "train.head()"
   ]
  },
  {
   "cell_type": "code",
   "execution_count": 12,
   "metadata": {},
   "outputs": [],
   "source": [
    "mc = mc.merge(st, on=[\"molecule_name\",\"atom_index\"])"
   ]
  },
  {
   "cell_type": "code",
   "execution_count": 13,
   "metadata": {},
   "outputs": [
    {
     "data": {
      "text/html": [
       "<div>\n",
       "<style scoped>\n",
       "    .dataframe tbody tr th:only-of-type {\n",
       "        vertical-align: middle;\n",
       "    }\n",
       "\n",
       "    .dataframe tbody tr th {\n",
       "        vertical-align: top;\n",
       "    }\n",
       "\n",
       "    .dataframe thead th {\n",
       "        text-align: right;\n",
       "    }\n",
       "</style>\n",
       "<table border=\"1\" class=\"dataframe\">\n",
       "  <thead>\n",
       "    <tr style=\"text-align: right;\">\n",
       "      <th></th>\n",
       "      <th>molecule_name</th>\n",
       "      <th>atom_index</th>\n",
       "      <th>mulliken_charge</th>\n",
       "      <th>atom</th>\n",
       "      <th>x</th>\n",
       "      <th>y</th>\n",
       "      <th>z</th>\n",
       "    </tr>\n",
       "  </thead>\n",
       "  <tbody>\n",
       "    <tr>\n",
       "      <th>0</th>\n",
       "      <td>dsgdb9nsd_000001</td>\n",
       "      <td>0</td>\n",
       "      <td>-0.535689</td>\n",
       "      <td>C</td>\n",
       "      <td>-0.012698</td>\n",
       "      <td>1.085804</td>\n",
       "      <td>0.008001</td>\n",
       "    </tr>\n",
       "    <tr>\n",
       "      <th>1</th>\n",
       "      <td>dsgdb9nsd_000001</td>\n",
       "      <td>1</td>\n",
       "      <td>0.133921</td>\n",
       "      <td>H</td>\n",
       "      <td>0.002150</td>\n",
       "      <td>-0.006031</td>\n",
       "      <td>0.001976</td>\n",
       "    </tr>\n",
       "    <tr>\n",
       "      <th>2</th>\n",
       "      <td>dsgdb9nsd_000001</td>\n",
       "      <td>2</td>\n",
       "      <td>0.133922</td>\n",
       "      <td>H</td>\n",
       "      <td>1.011731</td>\n",
       "      <td>1.463751</td>\n",
       "      <td>0.000277</td>\n",
       "    </tr>\n",
       "    <tr>\n",
       "      <th>3</th>\n",
       "      <td>dsgdb9nsd_000001</td>\n",
       "      <td>3</td>\n",
       "      <td>0.133923</td>\n",
       "      <td>H</td>\n",
       "      <td>-0.540815</td>\n",
       "      <td>1.447527</td>\n",
       "      <td>-0.876644</td>\n",
       "    </tr>\n",
       "    <tr>\n",
       "      <th>4</th>\n",
       "      <td>dsgdb9nsd_000001</td>\n",
       "      <td>4</td>\n",
       "      <td>0.133923</td>\n",
       "      <td>H</td>\n",
       "      <td>-0.523814</td>\n",
       "      <td>1.437933</td>\n",
       "      <td>0.906397</td>\n",
       "    </tr>\n",
       "  </tbody>\n",
       "</table>\n",
       "</div>"
      ],
      "text/plain": [
       "      molecule_name  atom_index  mulliken_charge atom         x         y  \\\n",
       "0  dsgdb9nsd_000001           0        -0.535689    C -0.012698  1.085804   \n",
       "1  dsgdb9nsd_000001           1         0.133921    H  0.002150 -0.006031   \n",
       "2  dsgdb9nsd_000001           2         0.133922    H  1.011731  1.463751   \n",
       "3  dsgdb9nsd_000001           3         0.133923    H -0.540815  1.447527   \n",
       "4  dsgdb9nsd_000001           4         0.133923    H -0.523814  1.437933   \n",
       "\n",
       "          z  \n",
       "0  0.008001  \n",
       "1  0.001976  \n",
       "2  0.000277  \n",
       "3 -0.876644  \n",
       "4  0.906397  "
      ]
     },
     "execution_count": 13,
     "metadata": {},
     "output_type": "execute_result"
    }
   ],
   "source": [
    "mc.head()"
   ]
  },
  {
   "cell_type": "code",
   "execution_count": 15,
   "metadata": {},
   "outputs": [
    {
     "data": {
      "text/plain": [
       "[]"
      ]
     },
     "execution_count": 15,
     "metadata": {},
     "output_type": "execute_result"
    },
    {
     "data": {
      "image/png": "[encoded data removed]",
      "text/plain": [
       "<Figure size 432x288 with 1 Axes>"
      ]
     },
     "metadata": {},
     "output_type": "display_data"
    }
   ],
   "source": [
    "mc[mc.atom==\"C\"][\"mulliken_charge\"].hist(bins=50).plot()"
   ]
  },
  {
   "cell_type": "code",
   "execution_count": 16,
   "metadata": {},
   "outputs": [
    {
     "data": {
      "text/plain": [
       "[]"
      ]
     },
     "execution_count": 16,
     "metadata": {},
     "output_type": "execute_result"
    },
    {
     "data": {
      "image/png": "[encoded data removed]",
      "text/plain": [
       "<Figure size 432x288 with 1 Axes>"
      ]
     },
     "metadata": {},
     "output_type": "display_data"
    }
   ],
   "source": [
    "mc[mc.atom==\"H\"][\"mulliken_charge\"].hist(bins=50).plot()"
   ]
  },
  {
   "cell_type": "code",
   "execution_count": 17,
   "metadata": {},
   "outputs": [
    {
     "data": {
      "text/plain": [
       "[]"
      ]
     },
     "execution_count": 17,
     "metadata": {},
     "output_type": "execute_result"
    },
    {
     "data": {
      "image/png": "[encoded data removed]",
      "text/plain": [
       "<Figure size 432x288 with 1 Axes>"
      ]
     },
     "metadata": {},
     "output_type": "display_data"
    }
   ],
   "source": [
    "mc[mc.atom==\"O\"][\"mulliken_charge\"].hist(bins=50).plot()"
   ]
  },
  {
   "cell_type": "code",
   "execution_count": 18,
   "metadata": {},
   "outputs": [
    {
     "data": {
      "text/plain": [
       "[]"
      ]
     },
     "execution_count": 18,
     "metadata": {},
     "output_type": "execute_result"
    },
    {
     "data": {
      "image/png": "[encoded data removed]",
      "text/plain": [
       "<Figure size 432x288 with 1 Axes>"
      ]
     },
     "metadata": {},
     "output_type": "display_data"
    }
   ],
   "source": [
    "mc[mc.atom==\"N\"][\"mulliken_charge\"].hist(bins=50).plot()"
   ]
  },
  {
   "cell_type": "code",
   "execution_count": 19,
   "metadata": {},
   "outputs": [
    {
     "data": {
      "text/plain": [
       "[]"
      ]
     },
     "execution_count": 19,
     "metadata": {},
     "output_type": "execute_result"
    },
    {
     "data": {
      "image/png": "[encoded data removed]",
      "text/plain": [
       "<Figure size 432x288 with 1 Axes>"
      ]
     },
     "metadata": {},
     "output_type": "display_data"
    }
   ],
   "source": [
    "mc[mc.atom==\"F\"][\"mulliken_charge\"].hist(bins=50).plot()"
   ]
  },
  {
   "cell_type": "code",
   "execution_count": 21,
   "metadata": {},
   "outputs": [
    {
     "data": {
      "text/html": [
       "<div>\n",
       "<style scoped>\n",
       "    .dataframe tbody tr th:only-of-type {\n",
       "        vertical-align: middle;\n",
       "    }\n",
       "\n",
       "    .dataframe tbody tr th {\n",
       "        vertical-align: top;\n",
       "    }\n",
       "\n",
       "    .dataframe thead th {\n",
       "        text-align: right;\n",
       "    }\n",
       "</style>\n",
       "<table border=\"1\" class=\"dataframe\">\n",
       "  <thead>\n",
       "    <tr style=\"text-align: right;\">\n",
       "      <th></th>\n",
       "      <th>molecule_name</th>\n",
       "      <th>atom_index</th>\n",
       "      <th>mulliken_charge</th>\n",
       "      <th>atom</th>\n",
       "      <th>x</th>\n",
       "      <th>y</th>\n",
       "      <th>z</th>\n",
       "    </tr>\n",
       "  </thead>\n",
       "  <tbody>\n",
       "    <tr>\n",
       "      <th>626897</th>\n",
       "      <td>dsgdb9nsd_058982</td>\n",
       "      <td>5</td>\n",
       "      <td>-0.529051</td>\n",
       "      <td>C</td>\n",
       "      <td>-2.001007</td>\n",
       "      <td>-0.890074</td>\n",
       "      <td>-1.106123</td>\n",
       "    </tr>\n",
       "    <tr>\n",
       "      <th>626899</th>\n",
       "      <td>dsgdb9nsd_058982</td>\n",
       "      <td>7</td>\n",
       "      <td>-0.425878</td>\n",
       "      <td>O</td>\n",
       "      <td>-4.281228</td>\n",
       "      <td>-1.733262</td>\n",
       "      <td>-1.318604</td>\n",
       "    </tr>\n",
       "    <tr>\n",
       "      <th>626892</th>\n",
       "      <td>dsgdb9nsd_058982</td>\n",
       "      <td>0</td>\n",
       "      <td>-0.346164</td>\n",
       "      <td>C</td>\n",
       "      <td>0.095476</td>\n",
       "      <td>1.346818</td>\n",
       "      <td>-0.343641</td>\n",
       "    </tr>\n",
       "    <tr>\n",
       "      <th>626895</th>\n",
       "      <td>dsgdb9nsd_058982</td>\n",
       "      <td>3</td>\n",
       "      <td>-0.345258</td>\n",
       "      <td>C</td>\n",
       "      <td>0.707708</td>\n",
       "      <td>-0.227372</td>\n",
       "      <td>1.471726</td>\n",
       "    </tr>\n",
       "    <tr>\n",
       "      <th>626900</th>\n",
       "      <td>dsgdb9nsd_058982</td>\n",
       "      <td>8</td>\n",
       "      <td>-0.237155</td>\n",
       "      <td>O</td>\n",
       "      <td>-3.303862</td>\n",
       "      <td>-1.311442</td>\n",
       "      <td>0.726455</td>\n",
       "    </tr>\n",
       "    <tr>\n",
       "      <th>626893</th>\n",
       "      <td>dsgdb9nsd_058982</td>\n",
       "      <td>1</td>\n",
       "      <td>-0.138977</td>\n",
       "      <td>N</td>\n",
       "      <td>0.050717</td>\n",
       "      <td>-0.076733</td>\n",
       "      <td>0.139485</td>\n",
       "    </tr>\n",
       "    <tr>\n",
       "      <th>626901</th>\n",
       "      <td>dsgdb9nsd_058982</td>\n",
       "      <td>9</td>\n",
       "      <td>-0.099038</td>\n",
       "      <td>C</td>\n",
       "      <td>-2.106616</td>\n",
       "      <td>-0.864266</td>\n",
       "      <td>1.177447</td>\n",
       "    </tr>\n",
       "    <tr>\n",
       "      <th>626909</th>\n",
       "      <td>dsgdb9nsd_058982</td>\n",
       "      <td>17</td>\n",
       "      <td>0.068755</td>\n",
       "      <td>H</td>\n",
       "      <td>-1.641378</td>\n",
       "      <td>-0.818234</td>\n",
       "      <td>-2.120022</td>\n",
       "    </tr>\n",
       "    <tr>\n",
       "      <th>626902</th>\n",
       "      <td>dsgdb9nsd_058982</td>\n",
       "      <td>10</td>\n",
       "      <td>0.102022</td>\n",
       "      <td>H</td>\n",
       "      <td>-1.964151</td>\n",
       "      <td>-0.790765</td>\n",
       "      <td>2.242588</td>\n",
       "    </tr>\n",
       "    <tr>\n",
       "      <th>626903</th>\n",
       "      <td>dsgdb9nsd_058982</td>\n",
       "      <td>11</td>\n",
       "      <td>0.145777</td>\n",
       "      <td>H</td>\n",
       "      <td>1.134504</td>\n",
       "      <td>1.670199</td>\n",
       "      <td>-0.440535</td>\n",
       "    </tr>\n",
       "    <tr>\n",
       "      <th>626906</th>\n",
       "      <td>dsgdb9nsd_058982</td>\n",
       "      <td>14</td>\n",
       "      <td>0.154063</td>\n",
       "      <td>H</td>\n",
       "      <td>1.735033</td>\n",
       "      <td>0.133689</td>\n",
       "      <td>1.410661</td>\n",
       "    </tr>\n",
       "    <tr>\n",
       "      <th>626905</th>\n",
       "      <td>dsgdb9nsd_058982</td>\n",
       "      <td>13</td>\n",
       "      <td>0.180616</td>\n",
       "      <td>H</td>\n",
       "      <td>-0.439552</td>\n",
       "      <td>1.953771</td>\n",
       "      <td>0.386481</td>\n",
       "    </tr>\n",
       "    <tr>\n",
       "      <th>626907</th>\n",
       "      <td>dsgdb9nsd_058982</td>\n",
       "      <td>15</td>\n",
       "      <td>0.183336</td>\n",
       "      <td>H</td>\n",
       "      <td>0.142041</td>\n",
       "      <td>0.365287</td>\n",
       "      <td>2.190174</td>\n",
       "    </tr>\n",
       "    <tr>\n",
       "      <th>626908</th>\n",
       "      <td>dsgdb9nsd_058982</td>\n",
       "      <td>16</td>\n",
       "      <td>0.185206</td>\n",
       "      <td>H</td>\n",
       "      <td>0.671059</td>\n",
       "      <td>-1.279207</td>\n",
       "      <td>1.750897</td>\n",
       "    </tr>\n",
       "    <tr>\n",
       "      <th>626896</th>\n",
       "      <td>dsgdb9nsd_058982</td>\n",
       "      <td>4</td>\n",
       "      <td>0.192292</td>\n",
       "      <td>C</td>\n",
       "      <td>-1.315873</td>\n",
       "      <td>-0.613772</td>\n",
       "      <td>0.099373</td>\n",
       "    </tr>\n",
       "    <tr>\n",
       "      <th>626904</th>\n",
       "      <td>dsgdb9nsd_058982</td>\n",
       "      <td>12</td>\n",
       "      <td>0.195790</td>\n",
       "      <td>H</td>\n",
       "      <td>-0.425821</td>\n",
       "      <td>1.385478</td>\n",
       "      <td>-1.298664</td>\n",
       "    </tr>\n",
       "    <tr>\n",
       "      <th>626894</th>\n",
       "      <td>dsgdb9nsd_058982</td>\n",
       "      <td>2</td>\n",
       "      <td>0.294457</td>\n",
       "      <td>H</td>\n",
       "      <td>0.588890</td>\n",
       "      <td>-0.632568</td>\n",
       "      <td>-0.531383</td>\n",
       "    </tr>\n",
       "    <tr>\n",
       "      <th>626898</th>\n",
       "      <td>dsgdb9nsd_058982</td>\n",
       "      <td>6</td>\n",
       "      <td>0.419207</td>\n",
       "      <td>C</td>\n",
       "      <td>-3.289267</td>\n",
       "      <td>-1.350501</td>\n",
       "      <td>-0.737610</td>\n",
       "    </tr>\n",
       "  </tbody>\n",
       "</table>\n",
       "</div>"
      ],
      "text/plain": [
       "           molecule_name  atom_index  mulliken_charge atom         x  \\\n",
       "626897  dsgdb9nsd_058982           5        -0.529051    C -2.001007   \n",
       "626899  dsgdb9nsd_058982           7        -0.425878    O -4.281228   \n",
       "626892  dsgdb9nsd_058982           0        -0.346164    C  0.095476   \n",
       "626895  dsgdb9nsd_058982           3        -0.345258    C  0.707708   \n",
       "626900  dsgdb9nsd_058982           8        -0.237155    O -3.303862   \n",
       "626893  dsgdb9nsd_058982           1        -0.138977    N  0.050717   \n",
       "626901  dsgdb9nsd_058982           9        -0.099038    C -2.106616   \n",
       "626909  dsgdb9nsd_058982          17         0.068755    H -1.641378   \n",
       "626902  dsgdb9nsd_058982          10         0.102022    H -1.964151   \n",
       "626903  dsgdb9nsd_058982          11         0.145777    H  1.134504   \n",
       "626906  dsgdb9nsd_058982          14         0.154063    H  1.735033   \n",
       "626905  dsgdb9nsd_058982          13         0.180616    H -0.439552   \n",
       "626907  dsgdb9nsd_058982          15         0.183336    H  0.142041   \n",
       "626908  dsgdb9nsd_058982          16         0.185206    H  0.671059   \n",
       "626896  dsgdb9nsd_058982           4         0.192292    C -1.315873   \n",
       "626904  dsgdb9nsd_058982          12         0.195790    H -0.425821   \n",
       "626894  dsgdb9nsd_058982           2         0.294457    H  0.588890   \n",
       "626898  dsgdb9nsd_058982           6         0.419207    C -3.289267   \n",
       "\n",
       "               y         z  \n",
       "626897 -0.890074 -1.106123  \n",
       "626899 -1.733262 -1.318604  \n",
       "626892  1.346818 -0.343641  \n",
       "626895 -0.227372  1.471726  \n",
       "626900 -1.311442  0.726455  \n",
       "626893 -0.076733  0.139485  \n",
       "626901 -0.864266  1.177447  \n",
       "626909 -0.818234 -2.120022  \n",
       "626902 -0.790765  2.242588  \n",
       "626903  1.670199 -0.440535  \n",
       "626906  0.133689  1.410661  \n",
       "626905  1.953771  0.386481  \n",
       "626907  0.365287  2.190174  \n",
       "626908 -1.279207  1.750897  \n",
       "626896 -0.613772  0.099373  \n",
       "626904  1.385478 -1.298664  \n",
       "626894 -0.632568 -0.531383  \n",
       "626898 -1.350501 -0.737610  "
      ]
     },
     "execution_count": 21,
     "metadata": {},
     "output_type": "execute_result"
    }
   ],
   "source": [
    "mc[mc.molecule_name==\"dsgdb9nsd_058982\"].sort_values(\"mulliken_charge\")"
   ]
  },
  {
   "cell_type": "code",
   "execution_count": null,
   "metadata": {},
   "outputs": [],
   "source": []
  }
 ],
 "metadata": {
  "hide_input": false,
  "kernelspec": {
   "display_name": "Python 3",
   "language": "python",
   "name": "python3"
  },
  "language_info": {
   "codemirror_mode": {
    "name": "ipython",
    "version": 3
   },
   "file_extension": ".py",
   "mimetype": "text/x-python",
   "name": "python",
   "nbconvert_exporter": "python",
   "pygments_lexer": "ipython3",
   "version": "3.6.5"
  },
  "toc": {
   "base_numbering": 1,
   "nav_menu": {},
   "number_sections": true,
   "sideBar": true,
   "skip_h1_title": false,
   "title_cell": "Table of Contents",
   "title_sidebar": "Contents",
   "toc_cell": false,
   "toc_position": {},
   "toc_section_display": true,
   "toc_window_display": false
  }
 },
 "nbformat": 4,
 "nbformat_minor": 2
}
